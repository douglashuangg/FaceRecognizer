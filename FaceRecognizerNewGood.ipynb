{
  "nbformat": 4,
  "nbformat_minor": 0,
  "metadata": {
    "colab": {
      "name": "FaceRecognizerNewGood.ipynb",
      "provenance": []
    },
    "kernelspec": {
      "name": "python3",
      "display_name": "Python 3"
    },
    "language_info": {
      "name": "python"
    },
    "accelerator": "GPU",
    "widgets": {
      "application/vnd.jupyter.widget-state+json": {
        "251077d716ab493f90d41c60f662c2d7": {
          "model_module": "@jupyter-widgets/controls",
          "model_name": "FileUploadModel",
          "model_module_version": "1.5.0",
          "state": {
            "_counter": 1,
            "_dom_classes": [],
            "_model_module": "@jupyter-widgets/controls",
            "_model_module_version": "1.5.0",
            "_model_name": "FileUploadModel",
            "_view_count": null,
            "_view_module": "@jupyter-widgets/controls",
            "_view_module_version": "1.5.0",
            "_view_name": "FileUploadView",
            "accept": "",
            "button_style": "",
            "data": [
              null
            ],
            "description": "Upload",
            "description_tooltip": null,
            "disabled": false,
            "error": "",
            "icon": "upload",
            "layout": "IPY_MODEL_7865a79b19a04c1e834fd8d6c149240e",
            "metadata": [
              {
                "name": "CollinTest1.jpg",
                "type": "image/jpeg",
                "size": 2848314,
                "lastModified": 1651546986406
              }
            ],
            "multiple": false,
            "style": "IPY_MODEL_2abfca3a54c14902a574e53f4034096d"
          }
        },
        "7865a79b19a04c1e834fd8d6c149240e": {
          "model_module": "@jupyter-widgets/base",
          "model_name": "LayoutModel",
          "model_module_version": "1.2.0",
          "state": {
            "_model_module": "@jupyter-widgets/base",
            "_model_module_version": "1.2.0",
            "_model_name": "LayoutModel",
            "_view_count": null,
            "_view_module": "@jupyter-widgets/base",
            "_view_module_version": "1.2.0",
            "_view_name": "LayoutView",
            "align_content": null,
            "align_items": null,
            "align_self": null,
            "border": null,
            "bottom": null,
            "display": null,
            "flex": null,
            "flex_flow": null,
            "grid_area": null,
            "grid_auto_columns": null,
            "grid_auto_flow": null,
            "grid_auto_rows": null,
            "grid_column": null,
            "grid_gap": null,
            "grid_row": null,
            "grid_template_areas": null,
            "grid_template_columns": null,
            "grid_template_rows": null,
            "height": null,
            "justify_content": null,
            "justify_items": null,
            "left": null,
            "margin": null,
            "max_height": null,
            "max_width": null,
            "min_height": null,
            "min_width": null,
            "object_fit": null,
            "object_position": null,
            "order": null,
            "overflow": null,
            "overflow_x": null,
            "overflow_y": null,
            "padding": null,
            "right": null,
            "top": null,
            "visibility": null,
            "width": null
          }
        },
        "2abfca3a54c14902a574e53f4034096d": {
          "model_module": "@jupyter-widgets/controls",
          "model_name": "ButtonStyleModel",
          "model_module_version": "1.5.0",
          "state": {
            "_model_module": "@jupyter-widgets/controls",
            "_model_module_version": "1.5.0",
            "_model_name": "ButtonStyleModel",
            "_view_count": null,
            "_view_module": "@jupyter-widgets/base",
            "_view_module_version": "1.2.0",
            "_view_name": "StyleView",
            "button_color": null,
            "font_weight": ""
          }
        },
        "7249fd1efb9044729985a83931cfd3c0": {
          "model_module": "@jupyter-widgets/output",
          "model_name": "OutputModel",
          "model_module_version": "1.0.0",
          "state": {
            "_dom_classes": [],
            "_model_module": "@jupyter-widgets/output",
            "_model_module_version": "1.0.0",
            "_model_name": "OutputModel",
            "_view_count": null,
            "_view_module": "@jupyter-widgets/output",
            "_view_module_version": "1.0.0",
            "_view_name": "OutputView",
            "layout": "IPY_MODEL_eac3a3a5dd22433a9737be0ada0ae558",
            "msg_id": "",
            "outputs": [
              {
                "output_type": "display_data",
                "data": {
                  "text/plain": "<PIL.Image.Image image mode=RGB size=96x128 at 0x7F3E8A192F10>",
                  "image/png": "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\n"
                },
                "metadata": {}
              }
            ]
          }
        },
        "eac3a3a5dd22433a9737be0ada0ae558": {
          "model_module": "@jupyter-widgets/base",
          "model_name": "LayoutModel",
          "model_module_version": "1.2.0",
          "state": {
            "_model_module": "@jupyter-widgets/base",
            "_model_module_version": "1.2.0",
            "_model_name": "LayoutModel",
            "_view_count": null,
            "_view_module": "@jupyter-widgets/base",
            "_view_module_version": "1.2.0",
            "_view_name": "LayoutView",
            "align_content": null,
            "align_items": null,
            "align_self": null,
            "border": null,
            "bottom": null,
            "display": null,
            "flex": null,
            "flex_flow": null,
            "grid_area": null,
            "grid_auto_columns": null,
            "grid_auto_flow": null,
            "grid_auto_rows": null,
            "grid_column": null,
            "grid_gap": null,
            "grid_row": null,
            "grid_template_areas": null,
            "grid_template_columns": null,
            "grid_template_rows": null,
            "height": null,
            "justify_content": null,
            "justify_items": null,
            "left": null,
            "margin": null,
            "max_height": null,
            "max_width": null,
            "min_height": null,
            "min_width": null,
            "object_fit": null,
            "object_position": null,
            "order": null,
            "overflow": null,
            "overflow_x": null,
            "overflow_y": null,
            "padding": null,
            "right": null,
            "top": null,
            "visibility": null,
            "width": null
          }
        },
        "85d8b1e700984ef38e404ff9e62bf392": {
          "model_module": "@jupyter-widgets/controls",
          "model_name": "LabelModel",
          "model_module_version": "1.5.0",
          "state": {
            "_dom_classes": [],
            "_model_module": "@jupyter-widgets/controls",
            "_model_module_version": "1.5.0",
            "_model_name": "LabelModel",
            "_view_count": null,
            "_view_module": "@jupyter-widgets/controls",
            "_view_module_version": "1.5.0",
            "_view_name": "LabelView",
            "description": "",
            "description_tooltip": null,
            "layout": "IPY_MODEL_2d609591641541febfb955467e0a7a0f",
            "placeholder": "​",
            "style": "IPY_MODEL_404a79972ac34c71b5077ca44d9bc8ed",
            "value": "Prediction: Collin; Probability: 0.9801"
          }
        },
        "2d609591641541febfb955467e0a7a0f": {
          "model_module": "@jupyter-widgets/base",
          "model_name": "LayoutModel",
          "model_module_version": "1.2.0",
          "state": {
            "_model_module": "@jupyter-widgets/base",
            "_model_module_version": "1.2.0",
            "_model_name": "LayoutModel",
            "_view_count": null,
            "_view_module": "@jupyter-widgets/base",
            "_view_module_version": "1.2.0",
            "_view_name": "LayoutView",
            "align_content": null,
            "align_items": null,
            "align_self": null,
            "border": null,
            "bottom": null,
            "display": null,
            "flex": null,
            "flex_flow": null,
            "grid_area": null,
            "grid_auto_columns": null,
            "grid_auto_flow": null,
            "grid_auto_rows": null,
            "grid_column": null,
            "grid_gap": null,
            "grid_row": null,
            "grid_template_areas": null,
            "grid_template_columns": null,
            "grid_template_rows": null,
            "height": null,
            "justify_content": null,
            "justify_items": null,
            "left": null,
            "margin": null,
            "max_height": null,
            "max_width": null,
            "min_height": null,
            "min_width": null,
            "object_fit": null,
            "object_position": null,
            "order": null,
            "overflow": null,
            "overflow_x": null,
            "overflow_y": null,
            "padding": null,
            "right": null,
            "top": null,
            "visibility": null,
            "width": null
          }
        },
        "404a79972ac34c71b5077ca44d9bc8ed": {
          "model_module": "@jupyter-widgets/controls",
          "model_name": "DescriptionStyleModel",
          "model_module_version": "1.5.0",
          "state": {
            "_model_module": "@jupyter-widgets/controls",
            "_model_module_version": "1.5.0",
            "_model_name": "DescriptionStyleModel",
            "_view_count": null,
            "_view_module": "@jupyter-widgets/base",
            "_view_module_version": "1.2.0",
            "_view_name": "StyleView",
            "description_width": ""
          }
        },
        "4340c19279f7464b96be09ca9932261c": {
          "model_module": "@jupyter-widgets/controls",
          "model_name": "ButtonModel",
          "model_module_version": "1.5.0",
          "state": {
            "_dom_classes": [],
            "_model_module": "@jupyter-widgets/controls",
            "_model_module_version": "1.5.0",
            "_model_name": "ButtonModel",
            "_view_count": null,
            "_view_module": "@jupyter-widgets/controls",
            "_view_module_version": "1.5.0",
            "_view_name": "ButtonView",
            "button_style": "",
            "description": "Classify",
            "disabled": false,
            "icon": "",
            "layout": "IPY_MODEL_7cfa0a73abba4863a9e35269b2fe854f",
            "style": "IPY_MODEL_9d6c98ddaf424d7b819c7b344920c746",
            "tooltip": ""
          }
        },
        "7cfa0a73abba4863a9e35269b2fe854f": {
          "model_module": "@jupyter-widgets/base",
          "model_name": "LayoutModel",
          "model_module_version": "1.2.0",
          "state": {
            "_model_module": "@jupyter-widgets/base",
            "_model_module_version": "1.2.0",
            "_model_name": "LayoutModel",
            "_view_count": null,
            "_view_module": "@jupyter-widgets/base",
            "_view_module_version": "1.2.0",
            "_view_name": "LayoutView",
            "align_content": null,
            "align_items": null,
            "align_self": null,
            "border": null,
            "bottom": null,
            "display": null,
            "flex": null,
            "flex_flow": null,
            "grid_area": null,
            "grid_auto_columns": null,
            "grid_auto_flow": null,
            "grid_auto_rows": null,
            "grid_column": null,
            "grid_gap": null,
            "grid_row": null,
            "grid_template_areas": null,
            "grid_template_columns": null,
            "grid_template_rows": null,
            "height": null,
            "justify_content": null,
            "justify_items": null,
            "left": null,
            "margin": null,
            "max_height": null,
            "max_width": null,
            "min_height": null,
            "min_width": null,
            "object_fit": null,
            "object_position": null,
            "order": null,
            "overflow": null,
            "overflow_x": null,
            "overflow_y": null,
            "padding": null,
            "right": null,
            "top": null,
            "visibility": null,
            "width": null
          }
        },
        "9d6c98ddaf424d7b819c7b344920c746": {
          "model_module": "@jupyter-widgets/controls",
          "model_name": "ButtonStyleModel",
          "model_module_version": "1.5.0",
          "state": {
            "_model_module": "@jupyter-widgets/controls",
            "_model_module_version": "1.5.0",
            "_model_name": "ButtonStyleModel",
            "_view_count": null,
            "_view_module": "@jupyter-widgets/base",
            "_view_module_version": "1.2.0",
            "_view_name": "StyleView",
            "button_color": null,
            "font_weight": ""
          }
        },
        "634798d977c54b818149aea97d05169d": {
          "model_module": "@jupyter-widgets/controls",
          "model_name": "VBoxModel",
          "model_module_version": "1.5.0",
          "state": {
            "_dom_classes": [],
            "_model_module": "@jupyter-widgets/controls",
            "_model_module_version": "1.5.0",
            "_model_name": "VBoxModel",
            "_view_count": null,
            "_view_module": "@jupyter-widgets/controls",
            "_view_module_version": "1.5.0",
            "_view_name": "VBoxView",
            "box_style": "",
            "children": [
              "IPY_MODEL_f4d8a98b7334453cab9aab992e502fbd",
              "IPY_MODEL_99789f0623e4468cae13c7043f39ab7d",
              "IPY_MODEL_4340c19279f7464b96be09ca9932261c",
              "IPY_MODEL_7249fd1efb9044729985a83931cfd3c0",
              "IPY_MODEL_85d8b1e700984ef38e404ff9e62bf392"
            ],
            "layout": "IPY_MODEL_58af5f0ec2f8494585180564d02bce82"
          }
        },
        "f4d8a98b7334453cab9aab992e502fbd": {
          "model_module": "@jupyter-widgets/controls",
          "model_name": "LabelModel",
          "model_module_version": "1.5.0",
          "state": {
            "_dom_classes": [],
            "_model_module": "@jupyter-widgets/controls",
            "_model_module_version": "1.5.0",
            "_model_name": "LabelModel",
            "_view_count": null,
            "_view_module": "@jupyter-widgets/controls",
            "_view_module_version": "1.5.0",
            "_view_name": "LabelView",
            "description": "",
            "description_tooltip": null,
            "layout": "IPY_MODEL_2f5757f9ede44e41963528b10dc3b1b2",
            "placeholder": "​",
            "style": "IPY_MODEL_1973f940e8ac4e70adb337b2be21d706",
            "value": "Select your bear!"
          }
        },
        "99789f0623e4468cae13c7043f39ab7d": {
          "model_module": "@jupyter-widgets/controls",
          "model_name": "FileUploadModel",
          "model_module_version": "1.5.0",
          "state": {
            "_counter": 0,
            "_dom_classes": [],
            "_model_module": "@jupyter-widgets/controls",
            "_model_module_version": "1.5.0",
            "_model_name": "FileUploadModel",
            "_view_count": null,
            "_view_module": "@jupyter-widgets/controls",
            "_view_module_version": "1.5.0",
            "_view_name": "FileUploadView",
            "accept": "",
            "button_style": "",
            "data": [],
            "description": "Upload",
            "description_tooltip": null,
            "disabled": false,
            "error": "",
            "icon": "upload",
            "layout": "IPY_MODEL_a34525d322a948828efe273107bf1081",
            "metadata": [],
            "multiple": false,
            "style": "IPY_MODEL_d03852c0b76e408191ed45ddf1650b92"
          }
        },
        "58af5f0ec2f8494585180564d02bce82": {
          "model_module": "@jupyter-widgets/base",
          "model_name": "LayoutModel",
          "model_module_version": "1.2.0",
          "state": {
            "_model_module": "@jupyter-widgets/base",
            "_model_module_version": "1.2.0",
            "_model_name": "LayoutModel",
            "_view_count": null,
            "_view_module": "@jupyter-widgets/base",
            "_view_module_version": "1.2.0",
            "_view_name": "LayoutView",
            "align_content": null,
            "align_items": null,
            "align_self": null,
            "border": null,
            "bottom": null,
            "display": null,
            "flex": null,
            "flex_flow": null,
            "grid_area": null,
            "grid_auto_columns": null,
            "grid_auto_flow": null,
            "grid_auto_rows": null,
            "grid_column": null,
            "grid_gap": null,
            "grid_row": null,
            "grid_template_areas": null,
            "grid_template_columns": null,
            "grid_template_rows": null,
            "height": null,
            "justify_content": null,
            "justify_items": null,
            "left": null,
            "margin": null,
            "max_height": null,
            "max_width": null,
            "min_height": null,
            "min_width": null,
            "object_fit": null,
            "object_position": null,
            "order": null,
            "overflow": null,
            "overflow_x": null,
            "overflow_y": null,
            "padding": null,
            "right": null,
            "top": null,
            "visibility": null,
            "width": null
          }
        },
        "2f5757f9ede44e41963528b10dc3b1b2": {
          "model_module": "@jupyter-widgets/base",
          "model_name": "LayoutModel",
          "model_module_version": "1.2.0",
          "state": {
            "_model_module": "@jupyter-widgets/base",
            "_model_module_version": "1.2.0",
            "_model_name": "LayoutModel",
            "_view_count": null,
            "_view_module": "@jupyter-widgets/base",
            "_view_module_version": "1.2.0",
            "_view_name": "LayoutView",
            "align_content": null,
            "align_items": null,
            "align_self": null,
            "border": null,
            "bottom": null,
            "display": null,
            "flex": null,
            "flex_flow": null,
            "grid_area": null,
            "grid_auto_columns": null,
            "grid_auto_flow": null,
            "grid_auto_rows": null,
            "grid_column": null,
            "grid_gap": null,
            "grid_row": null,
            "grid_template_areas": null,
            "grid_template_columns": null,
            "grid_template_rows": null,
            "height": null,
            "justify_content": null,
            "justify_items": null,
            "left": null,
            "margin": null,
            "max_height": null,
            "max_width": null,
            "min_height": null,
            "min_width": null,
            "object_fit": null,
            "object_position": null,
            "order": null,
            "overflow": null,
            "overflow_x": null,
            "overflow_y": null,
            "padding": null,
            "right": null,
            "top": null,
            "visibility": null,
            "width": null
          }
        },
        "1973f940e8ac4e70adb337b2be21d706": {
          "model_module": "@jupyter-widgets/controls",
          "model_name": "DescriptionStyleModel",
          "model_module_version": "1.5.0",
          "state": {
            "_model_module": "@jupyter-widgets/controls",
            "_model_module_version": "1.5.0",
            "_model_name": "DescriptionStyleModel",
            "_view_count": null,
            "_view_module": "@jupyter-widgets/base",
            "_view_module_version": "1.2.0",
            "_view_name": "StyleView",
            "description_width": ""
          }
        },
        "a34525d322a948828efe273107bf1081": {
          "model_module": "@jupyter-widgets/base",
          "model_name": "LayoutModel",
          "model_module_version": "1.2.0",
          "state": {
            "_model_module": "@jupyter-widgets/base",
            "_model_module_version": "1.2.0",
            "_model_name": "LayoutModel",
            "_view_count": null,
            "_view_module": "@jupyter-widgets/base",
            "_view_module_version": "1.2.0",
            "_view_name": "LayoutView",
            "align_content": null,
            "align_items": null,
            "align_self": null,
            "border": null,
            "bottom": null,
            "display": null,
            "flex": null,
            "flex_flow": null,
            "grid_area": null,
            "grid_auto_columns": null,
            "grid_auto_flow": null,
            "grid_auto_rows": null,
            "grid_column": null,
            "grid_gap": null,
            "grid_row": null,
            "grid_template_areas": null,
            "grid_template_columns": null,
            "grid_template_rows": null,
            "height": null,
            "justify_content": null,
            "justify_items": null,
            "left": null,
            "margin": null,
            "max_height": null,
            "max_width": null,
            "min_height": null,
            "min_width": null,
            "object_fit": null,
            "object_position": null,
            "order": null,
            "overflow": null,
            "overflow_x": null,
            "overflow_y": null,
            "padding": null,
            "right": null,
            "top": null,
            "visibility": null,
            "width": null
          }
        },
        "d03852c0b76e408191ed45ddf1650b92": {
          "model_module": "@jupyter-widgets/controls",
          "model_name": "ButtonStyleModel",
          "model_module_version": "1.5.0",
          "state": {
            "_model_module": "@jupyter-widgets/controls",
            "_model_module_version": "1.5.0",
            "_model_name": "ButtonStyleModel",
            "_view_count": null,
            "_view_module": "@jupyter-widgets/base",
            "_view_module_version": "1.2.0",
            "_view_name": "StyleView",
            "button_color": null,
            "font_weight": ""
          }
        }
      }
    }
  },
  "cells": [
    {
      "cell_type": "code",
      "execution_count": 2,
      "metadata": {
        "colab": {
          "base_uri": "https://localhost:8080/"
        },
        "id": "9nmkK5z2zLF4",
        "outputId": "268e9d81-152b-4b2b-8e90-30a7b94ee174"
      },
      "outputs": [
        {
          "output_type": "stream",
          "name": "stdout",
          "text": [
            "Archive:  /content/FaceRecognitionRevised.zip\n",
            "   creating: FaceRecognitionRevised/Addison/\n",
            "  inflating: FaceRecognitionRevised/Addison/Addison1.PNG  \n",
            "  inflating: FaceRecognitionRevised/Addison/Addison10.PNG  \n",
            "  inflating: FaceRecognitionRevised/Addison/Addison11.PNG  \n",
            "  inflating: FaceRecognitionRevised/Addison/Addison12.PNG  \n",
            "  inflating: FaceRecognitionRevised/Addison/Addison13.PNG  \n",
            "  inflating: FaceRecognitionRevised/Addison/Addison14.PNG  \n",
            "  inflating: FaceRecognitionRevised/Addison/Addison15.PNG  \n",
            "  inflating: FaceRecognitionRevised/Addison/Addison16.PNG  \n",
            "  inflating: FaceRecognitionRevised/Addison/Addison17.PNG  \n",
            "  inflating: FaceRecognitionRevised/Addison/Addison18.PNG  \n",
            "  inflating: FaceRecognitionRevised/Addison/Addison19.PNG  \n",
            "  inflating: FaceRecognitionRevised/Addison/Addison2.PNG  \n",
            "  inflating: FaceRecognitionRevised/Addison/Addison20.PNG  \n",
            "  inflating: FaceRecognitionRevised/Addison/Addison21.PNG  \n",
            "  inflating: FaceRecognitionRevised/Addison/Addison22.PNG  \n",
            "  inflating: FaceRecognitionRevised/Addison/Addison23.PNG  \n",
            "  inflating: FaceRecognitionRevised/Addison/Addison24.PNG  \n",
            "  inflating: FaceRecognitionRevised/Addison/Addison25.PNG  \n",
            "  inflating: FaceRecognitionRevised/Addison/Addison26.PNG  \n",
            "  inflating: FaceRecognitionRevised/Addison/Addison27.PNG  \n",
            "  inflating: FaceRecognitionRevised/Addison/Addison28.PNG  \n",
            "  inflating: FaceRecognitionRevised/Addison/Addison29.PNG  \n",
            "  inflating: FaceRecognitionRevised/Addison/Addison3.PNG  \n",
            "  inflating: FaceRecognitionRevised/Addison/Addison30.PNG  \n",
            "  inflating: FaceRecognitionRevised/Addison/Addison31.PNG  \n",
            "  inflating: FaceRecognitionRevised/Addison/Addison32.PNG  \n",
            "  inflating: FaceRecognitionRevised/Addison/Addison33.PNG  \n",
            "  inflating: FaceRecognitionRevised/Addison/Addison34.PNG  \n",
            "  inflating: FaceRecognitionRevised/Addison/Addison35.PNG  \n",
            "  inflating: FaceRecognitionRevised/Addison/Addison36.PNG  \n",
            "  inflating: FaceRecognitionRevised/Addison/Addison37.PNG  \n",
            "  inflating: FaceRecognitionRevised/Addison/Addison38.PNG  \n",
            "  inflating: FaceRecognitionRevised/Addison/Addison39.PNG  \n",
            "  inflating: FaceRecognitionRevised/Addison/Addison4.PNG  \n",
            "  inflating: FaceRecognitionRevised/Addison/Addison40.PNG  \n",
            "  inflating: FaceRecognitionRevised/Addison/Addison41.PNG  \n",
            "  inflating: FaceRecognitionRevised/Addison/Addison42.PNG  \n",
            "  inflating: FaceRecognitionRevised/Addison/Addison43.PNG  \n",
            "  inflating: FaceRecognitionRevised/Addison/Addison44.PNG  \n",
            "  inflating: FaceRecognitionRevised/Addison/Addison45.PNG  \n",
            "  inflating: FaceRecognitionRevised/Addison/Addison46.PNG  \n",
            "  inflating: FaceRecognitionRevised/Addison/Addison47.PNG  \n",
            "  inflating: FaceRecognitionRevised/Addison/Addison48.PNG  \n",
            "  inflating: FaceRecognitionRevised/Addison/Addison5.PNG  \n",
            "  inflating: FaceRecognitionRevised/Addison/Addison6.PNG  \n",
            "  inflating: FaceRecognitionRevised/Addison/Addison7.PNG  \n",
            "  inflating: FaceRecognitionRevised/Addison/Addison8.PNG  \n",
            "  inflating: FaceRecognitionRevised/Addison/Addison9.PNG  \n",
            "  inflating: FaceRecognitionRevised/Addison/desktop.ini  \n",
            "   creating: FaceRecognitionRevised/Collin/\n",
            "  inflating: FaceRecognitionRevised/Collin/Collin1.PNG  \n",
            "  inflating: FaceRecognitionRevised/Collin/Collin10.PNG  \n",
            "  inflating: FaceRecognitionRevised/Collin/Collin11.PNG  \n",
            "  inflating: FaceRecognitionRevised/Collin/Collin12.PNG  \n",
            "  inflating: FaceRecognitionRevised/Collin/Collin13.PNG  \n",
            "  inflating: FaceRecognitionRevised/Collin/Collin14.PNG  \n",
            "  inflating: FaceRecognitionRevised/Collin/Collin15.PNG  \n",
            "  inflating: FaceRecognitionRevised/Collin/Collin16.PNG  \n",
            "  inflating: FaceRecognitionRevised/Collin/Collin17.PNG  \n",
            "  inflating: FaceRecognitionRevised/Collin/Collin18.PNG  \n",
            "  inflating: FaceRecognitionRevised/Collin/Collin19.PNG  \n",
            "  inflating: FaceRecognitionRevised/Collin/Collin2.PNG  \n",
            "  inflating: FaceRecognitionRevised/Collin/Collin20.PNG  \n",
            "  inflating: FaceRecognitionRevised/Collin/Collin21.PNG  \n",
            "  inflating: FaceRecognitionRevised/Collin/Collin22.PNG  \n",
            "  inflating: FaceRecognitionRevised/Collin/Collin23.PNG  \n",
            "  inflating: FaceRecognitionRevised/Collin/Collin24.PNG  \n",
            "  inflating: FaceRecognitionRevised/Collin/Collin25.PNG  \n",
            "  inflating: FaceRecognitionRevised/Collin/Collin26.PNG  \n",
            "  inflating: FaceRecognitionRevised/Collin/Collin27.PNG  \n",
            "  inflating: FaceRecognitionRevised/Collin/Collin28.PNG  \n",
            "  inflating: FaceRecognitionRevised/Collin/Collin29.PNG  \n",
            "  inflating: FaceRecognitionRevised/Collin/Collin3.PNG  \n",
            "  inflating: FaceRecognitionRevised/Collin/Collin30.PNG  \n",
            "  inflating: FaceRecognitionRevised/Collin/Collin31.PNG  \n",
            "  inflating: FaceRecognitionRevised/Collin/Collin32.PNG  \n",
            "  inflating: FaceRecognitionRevised/Collin/Collin33.PNG  \n",
            "  inflating: FaceRecognitionRevised/Collin/Collin34.PNG  \n",
            "  inflating: FaceRecognitionRevised/Collin/Collin35.PNG  \n",
            "  inflating: FaceRecognitionRevised/Collin/Collin4.PNG  \n",
            "  inflating: FaceRecognitionRevised/Collin/Collin5.PNG  \n",
            "  inflating: FaceRecognitionRevised/Collin/Collin6.PNG  \n",
            "  inflating: FaceRecognitionRevised/Collin/Collin7.PNG  \n",
            "  inflating: FaceRecognitionRevised/Collin/Collin8.PNG  \n",
            "  inflating: FaceRecognitionRevised/Collin/Collin9.PNG  \n",
            "  inflating: FaceRecognitionRevised/Collin/desktop.ini  \n",
            "   creating: FaceRecognitionRevised/Douglas/\n",
            "  inflating: FaceRecognitionRevised/Douglas/desktop.ini  \n",
            "  inflating: FaceRecognitionRevised/Douglas/Douglas1.PNG  \n",
            "  inflating: FaceRecognitionRevised/Douglas/Douglas10.PNG  \n",
            "  inflating: FaceRecognitionRevised/Douglas/Douglas11.PNG  \n",
            "  inflating: FaceRecognitionRevised/Douglas/Douglas12.PNG  \n",
            "  inflating: FaceRecognitionRevised/Douglas/Douglas13.PNG  \n",
            "  inflating: FaceRecognitionRevised/Douglas/Douglas14.PNG  \n",
            "  inflating: FaceRecognitionRevised/Douglas/Douglas15.PNG  \n",
            "  inflating: FaceRecognitionRevised/Douglas/Douglas16.PNG  \n",
            "  inflating: FaceRecognitionRevised/Douglas/Douglas17.PNG  \n",
            "  inflating: FaceRecognitionRevised/Douglas/Douglas18.PNG  \n",
            "  inflating: FaceRecognitionRevised/Douglas/Douglas19.PNG  \n",
            "  inflating: FaceRecognitionRevised/Douglas/Douglas2.PNG  \n",
            "  inflating: FaceRecognitionRevised/Douglas/Douglas20.PNG  \n",
            "  inflating: FaceRecognitionRevised/Douglas/Douglas21.PNG  \n",
            "  inflating: FaceRecognitionRevised/Douglas/Douglas22.PNG  \n",
            "  inflating: FaceRecognitionRevised/Douglas/Douglas23.PNG  \n",
            "  inflating: FaceRecognitionRevised/Douglas/Douglas24.PNG  \n",
            "  inflating: FaceRecognitionRevised/Douglas/Douglas25.PNG  \n",
            "  inflating: FaceRecognitionRevised/Douglas/Douglas26.PNG  \n",
            "  inflating: FaceRecognitionRevised/Douglas/Douglas27.PNG  \n",
            "  inflating: FaceRecognitionRevised/Douglas/Douglas28.PNG  \n",
            "  inflating: FaceRecognitionRevised/Douglas/Douglas29.PNG  \n",
            "  inflating: FaceRecognitionRevised/Douglas/Douglas3.PNG  \n",
            "  inflating: FaceRecognitionRevised/Douglas/Douglas30.PNG  \n",
            "  inflating: FaceRecognitionRevised/Douglas/Douglas31.PNG  \n",
            "  inflating: FaceRecognitionRevised/Douglas/Douglas32.PNG  \n",
            "  inflating: FaceRecognitionRevised/Douglas/Douglas33.PNG  \n",
            "  inflating: FaceRecognitionRevised/Douglas/Douglas34.PNG  \n",
            "  inflating: FaceRecognitionRevised/Douglas/Douglas35.PNG  \n",
            "  inflating: FaceRecognitionRevised/Douglas/Douglas36.PNG  \n",
            "  inflating: FaceRecognitionRevised/Douglas/Douglas37.PNG  \n",
            "  inflating: FaceRecognitionRevised/Douglas/Douglas38.PNG  \n",
            "  inflating: FaceRecognitionRevised/Douglas/Douglas39.PNG  \n",
            "  inflating: FaceRecognitionRevised/Douglas/Douglas4.PNG  \n",
            "  inflating: FaceRecognitionRevised/Douglas/Douglas40.PNG  \n",
            "  inflating: FaceRecognitionRevised/Douglas/Douglas41.jpg  \n",
            "  inflating: FaceRecognitionRevised/Douglas/Douglas42.PNG  \n",
            "  inflating: FaceRecognitionRevised/Douglas/Douglas43.PNG  \n",
            "  inflating: FaceRecognitionRevised/Douglas/Douglas5.PNG  \n",
            "  inflating: FaceRecognitionRevised/Douglas/Douglas6.PNG  \n",
            "  inflating: FaceRecognitionRevised/Douglas/Douglas7.PNG  \n",
            "  inflating: FaceRecognitionRevised/Douglas/Douglas8.PNG  \n",
            "  inflating: FaceRecognitionRevised/Douglas/Douglas9.PNG  \n",
            "   creating: FaceRecognitionRevised/Ethan/\n",
            "  inflating: FaceRecognitionRevised/Ethan/desktop.ini  \n",
            "  inflating: FaceRecognitionRevised/Ethan/Ethan1.PNG  \n",
            "  inflating: FaceRecognitionRevised/Ethan/Ethan10.PNG  \n",
            "  inflating: FaceRecognitionRevised/Ethan/Ethan11.PNG  \n",
            "  inflating: FaceRecognitionRevised/Ethan/Ethan12.PNG  \n",
            "  inflating: FaceRecognitionRevised/Ethan/Ethan13.PNG  \n",
            "  inflating: FaceRecognitionRevised/Ethan/Ethan14.PNG  \n",
            "  inflating: FaceRecognitionRevised/Ethan/Ethan15.PNG  \n",
            "  inflating: FaceRecognitionRevised/Ethan/Ethan16.PNG  \n",
            "  inflating: FaceRecognitionRevised/Ethan/Ethan17.PNG  \n",
            "  inflating: FaceRecognitionRevised/Ethan/Ethan18.PNG  \n",
            "  inflating: FaceRecognitionRevised/Ethan/Ethan19.PNG  \n",
            "  inflating: FaceRecognitionRevised/Ethan/Ethan2.PNG  \n",
            "  inflating: FaceRecognitionRevised/Ethan/Ethan20.PNG  \n",
            "  inflating: FaceRecognitionRevised/Ethan/Ethan21.PNG  \n",
            "  inflating: FaceRecognitionRevised/Ethan/Ethan22.PNG  \n",
            "  inflating: FaceRecognitionRevised/Ethan/Ethan23.PNG  \n",
            "  inflating: FaceRecognitionRevised/Ethan/Ethan24.PNG  \n",
            "  inflating: FaceRecognitionRevised/Ethan/Ethan25.PNG  \n",
            "  inflating: FaceRecognitionRevised/Ethan/Ethan26.PNG  \n",
            "  inflating: FaceRecognitionRevised/Ethan/Ethan27.PNG  \n",
            "  inflating: FaceRecognitionRevised/Ethan/Ethan28.PNG  \n",
            "  inflating: FaceRecognitionRevised/Ethan/Ethan29.PNG  \n",
            "  inflating: FaceRecognitionRevised/Ethan/Ethan3.PNG  \n",
            "  inflating: FaceRecognitionRevised/Ethan/Ethan30.PNG  \n",
            "  inflating: FaceRecognitionRevised/Ethan/Ethan31.PNG  \n",
            "  inflating: FaceRecognitionRevised/Ethan/Ethan32.PNG  \n",
            "  inflating: FaceRecognitionRevised/Ethan/Ethan33.jpg  \n",
            "  inflating: FaceRecognitionRevised/Ethan/Ethan34.PNG  \n",
            "  inflating: FaceRecognitionRevised/Ethan/Ethan35.PNG  \n",
            "  inflating: FaceRecognitionRevised/Ethan/Ethan36.PNG  \n",
            "  inflating: FaceRecognitionRevised/Ethan/Ethan37.PNG  \n",
            "  inflating: FaceRecognitionRevised/Ethan/Ethan38.PNG  \n",
            "  inflating: FaceRecognitionRevised/Ethan/Ethan39.PNG  \n",
            "  inflating: FaceRecognitionRevised/Ethan/Ethan4.PNG  \n",
            "  inflating: FaceRecognitionRevised/Ethan/Ethan40.PNG  \n",
            "  inflating: FaceRecognitionRevised/Ethan/Ethan41.PNG  \n",
            "  inflating: FaceRecognitionRevised/Ethan/Ethan42.PNG  \n",
            "  inflating: FaceRecognitionRevised/Ethan/Ethan43.PNG  \n",
            "  inflating: FaceRecognitionRevised/Ethan/Ethan44.PNG  \n",
            "  inflating: FaceRecognitionRevised/Ethan/Ethan45.PNG  \n",
            "  inflating: FaceRecognitionRevised/Ethan/Ethan46.PNG  \n",
            "  inflating: FaceRecognitionRevised/Ethan/Ethan47.PNG  \n",
            "  inflating: FaceRecognitionRevised/Ethan/Ethan5.PNG  \n",
            "  inflating: FaceRecognitionRevised/Ethan/Ethan6.PNG  \n",
            "  inflating: FaceRecognitionRevised/Ethan/Ethan7.PNG  \n",
            "  inflating: FaceRecognitionRevised/Ethan/Ethan8.PNG  \n",
            "  inflating: FaceRecognitionRevised/Ethan/Ethan9.PNG  \n",
            "   creating: FaceRecognitionRevised/Sam/\n",
            "  inflating: FaceRecognitionRevised/Sam/desktop.ini  \n",
            "  inflating: FaceRecognitionRevised/Sam/Sam1.PNG  \n",
            "  inflating: FaceRecognitionRevised/Sam/Sam10.PNG  \n",
            "  inflating: FaceRecognitionRevised/Sam/Sam11.PNG  \n",
            "  inflating: FaceRecognitionRevised/Sam/Sam12.PNG  \n",
            "  inflating: FaceRecognitionRevised/Sam/Sam13.PNG  \n",
            "  inflating: FaceRecognitionRevised/Sam/Sam14.PNG  \n",
            "  inflating: FaceRecognitionRevised/Sam/Sam15.PNG  \n",
            "  inflating: FaceRecognitionRevised/Sam/Sam16.PNG  \n",
            "  inflating: FaceRecognitionRevised/Sam/Sam17.PNG  \n",
            "  inflating: FaceRecognitionRevised/Sam/Sam18.PNG  \n",
            "  inflating: FaceRecognitionRevised/Sam/Sam19.PNG  \n",
            "  inflating: FaceRecognitionRevised/Sam/Sam2.PNG  \n",
            "  inflating: FaceRecognitionRevised/Sam/Sam20.PNG  \n",
            "  inflating: FaceRecognitionRevised/Sam/Sam21.PNG  \n",
            "  inflating: FaceRecognitionRevised/Sam/Sam22.PNG  \n",
            "  inflating: FaceRecognitionRevised/Sam/Sam23.PNG  \n",
            "  inflating: FaceRecognitionRevised/Sam/Sam24.PNG  \n",
            "  inflating: FaceRecognitionRevised/Sam/Sam25.PNG  \n",
            "  inflating: FaceRecognitionRevised/Sam/Sam26.PNG  \n",
            "  inflating: FaceRecognitionRevised/Sam/Sam27.PNG  \n",
            "  inflating: FaceRecognitionRevised/Sam/Sam28.PNG  \n",
            "  inflating: FaceRecognitionRevised/Sam/Sam29.PNG  \n",
            "  inflating: FaceRecognitionRevised/Sam/Sam3.PNG  \n",
            "  inflating: FaceRecognitionRevised/Sam/Sam30.PNG  \n",
            "  inflating: FaceRecognitionRevised/Sam/Sam31.PNG  \n",
            "  inflating: FaceRecognitionRevised/Sam/Sam32.PNG  \n",
            "  inflating: FaceRecognitionRevised/Sam/Sam33.PNG  \n",
            "  inflating: FaceRecognitionRevised/Sam/Sam34.PNG  \n",
            "  inflating: FaceRecognitionRevised/Sam/Sam35.PNG  \n",
            "  inflating: FaceRecognitionRevised/Sam/Sam36.PNG  \n",
            "  inflating: FaceRecognitionRevised/Sam/Sam37.PNG  \n",
            "  inflating: FaceRecognitionRevised/Sam/Sam38.PNG  \n",
            "  inflating: FaceRecognitionRevised/Sam/Sam39.PNG  \n",
            "  inflating: FaceRecognitionRevised/Sam/Sam4.PNG  \n",
            "  inflating: FaceRecognitionRevised/Sam/Sam40.PNG  \n",
            "  inflating: FaceRecognitionRevised/Sam/Sam41.PNG  \n",
            "  inflating: FaceRecognitionRevised/Sam/Sam42.PNG  \n",
            "  inflating: FaceRecognitionRevised/Sam/Sam43.PNG  \n",
            "  inflating: FaceRecognitionRevised/Sam/Sam44.PNG  \n",
            "  inflating: FaceRecognitionRevised/Sam/Sam45.PNG  \n",
            "  inflating: FaceRecognitionRevised/Sam/Sam46.PNG  \n",
            "  inflating: FaceRecognitionRevised/Sam/Sam47.PNG  \n",
            "  inflating: FaceRecognitionRevised/Sam/Sam48.PNG  \n",
            "  inflating: FaceRecognitionRevised/Sam/Sam49.PNG  \n",
            "  inflating: FaceRecognitionRevised/Sam/Sam5.PNG  \n",
            "  inflating: FaceRecognitionRevised/Sam/Sam50.PNG  \n",
            "  inflating: FaceRecognitionRevised/Sam/Sam51.PNG  \n",
            "  inflating: FaceRecognitionRevised/Sam/Sam52.PNG  \n",
            "  inflating: FaceRecognitionRevised/Sam/Sam53.PNG  \n",
            "  inflating: FaceRecognitionRevised/Sam/Sam54.PNG  \n",
            "  inflating: FaceRecognitionRevised/Sam/Sam55.PNG  \n",
            "  inflating: FaceRecognitionRevised/Sam/Sam56.PNG  \n",
            "  inflating: FaceRecognitionRevised/Sam/Sam6.PNG  \n",
            "  inflating: FaceRecognitionRevised/Sam/Sam7.PNG  \n",
            "  inflating: FaceRecognitionRevised/Sam/Sam8.PNG  \n",
            "  inflating: FaceRecognitionRevised/Sam/Sam9.PNG  \n",
            "   creating: FaceRecognitionRevised/Tommy/\n",
            "  inflating: FaceRecognitionRevised/Tommy/desktop.ini  \n",
            "  inflating: FaceRecognitionRevised/Tommy/Tommy1.PNG  \n",
            "  inflating: FaceRecognitionRevised/Tommy/Tommy10.PNG  \n",
            "  inflating: FaceRecognitionRevised/Tommy/Tommy11.PNG  \n",
            "  inflating: FaceRecognitionRevised/Tommy/Tommy12.PNG  \n",
            "  inflating: FaceRecognitionRevised/Tommy/Tommy13.PNG  \n",
            "  inflating: FaceRecognitionRevised/Tommy/Tommy14.PNG  \n",
            "  inflating: FaceRecognitionRevised/Tommy/Tommy15.PNG  \n",
            "  inflating: FaceRecognitionRevised/Tommy/Tommy16.PNG  \n",
            "  inflating: FaceRecognitionRevised/Tommy/Tommy17.PNG  \n",
            "  inflating: FaceRecognitionRevised/Tommy/Tommy18.PNG  \n",
            "  inflating: FaceRecognitionRevised/Tommy/Tommy19.PNG  \n",
            "  inflating: FaceRecognitionRevised/Tommy/Tommy2.PNG  \n",
            "  inflating: FaceRecognitionRevised/Tommy/Tommy20.PNG  \n",
            "  inflating: FaceRecognitionRevised/Tommy/Tommy21.PNG  \n",
            "  inflating: FaceRecognitionRevised/Tommy/Tommy22.PNG  \n",
            "  inflating: FaceRecognitionRevised/Tommy/Tommy23.PNG  \n",
            "  inflating: FaceRecognitionRevised/Tommy/Tommy24.PNG  \n",
            "  inflating: FaceRecognitionRevised/Tommy/Tommy25.PNG  \n",
            "  inflating: FaceRecognitionRevised/Tommy/Tommy26.PNG  \n",
            "  inflating: FaceRecognitionRevised/Tommy/Tommy27.PNG  \n",
            "  inflating: FaceRecognitionRevised/Tommy/Tommy28.PNG  \n",
            "  inflating: FaceRecognitionRevised/Tommy/Tommy29.PNG  \n",
            "  inflating: FaceRecognitionRevised/Tommy/Tommy3.PNG  \n",
            "  inflating: FaceRecognitionRevised/Tommy/Tommy30.PNG  \n",
            "  inflating: FaceRecognitionRevised/Tommy/Tommy31.PNG  \n",
            "  inflating: FaceRecognitionRevised/Tommy/Tommy32.PNG  \n",
            "  inflating: FaceRecognitionRevised/Tommy/Tommy33.PNG  \n",
            "  inflating: FaceRecognitionRevised/Tommy/Tommy34.PNG  \n",
            "  inflating: FaceRecognitionRevised/Tommy/Tommy35.PNG  \n",
            "  inflating: FaceRecognitionRevised/Tommy/Tommy36.PNG  \n",
            "  inflating: FaceRecognitionRevised/Tommy/Tommy37.jpg  \n",
            "  inflating: FaceRecognitionRevised/Tommy/Tommy38.jpg  \n",
            "  inflating: FaceRecognitionRevised/Tommy/Tommy39.PNG  \n",
            "  inflating: FaceRecognitionRevised/Tommy/Tommy4.PNG  \n",
            "  inflating: FaceRecognitionRevised/Tommy/Tommy40.PNG  \n",
            "  inflating: FaceRecognitionRevised/Tommy/Tommy41.PNG  \n",
            "  inflating: FaceRecognitionRevised/Tommy/Tommy42.PNG  \n",
            "  inflating: FaceRecognitionRevised/Tommy/Tommy43.PNG  \n",
            "  inflating: FaceRecognitionRevised/Tommy/Tommy44.PNG  \n",
            "  inflating: FaceRecognitionRevised/Tommy/Tommy45.PNG  \n",
            "  inflating: FaceRecognitionRevised/Tommy/Tommy46.PNG  \n",
            "  inflating: FaceRecognitionRevised/Tommy/Tommy47.PNG  \n",
            "  inflating: FaceRecognitionRevised/Tommy/Tommy48.PNG  \n",
            "  inflating: FaceRecognitionRevised/Tommy/Tommy5.PNG  \n",
            "  inflating: FaceRecognitionRevised/Tommy/Tommy6.PNG  \n",
            "  inflating: FaceRecognitionRevised/Tommy/Tommy7.PNG  \n",
            "  inflating: FaceRecognitionRevised/Tommy/Tommy8.PNG  \n",
            "  inflating: FaceRecognitionRevised/Tommy/Tommy9.PNG  \n"
          ]
        }
      ],
      "source": [
        "!unzip /content/FaceRecognitionRevised.zip"
      ]
    },
    {
      "cell_type": "code",
      "source": [
        "! [ -e /content ] && pip install -Uqq fastbook\n",
        "import fastbook\n",
        "fastbook.setup_book()"
      ],
      "metadata": {
        "colab": {
          "base_uri": "https://localhost:8080/"
        },
        "id": "Pyw4Q78Kz6uY",
        "outputId": "a7f56b02-57bf-4dcd-e509-3e2a1083dd4a"
      },
      "execution_count": 3,
      "outputs": [
        {
          "output_type": "stream",
          "name": "stdout",
          "text": [
            "\u001b[K     |████████████████████████████████| 720 kB 5.2 MB/s \n",
            "\u001b[K     |████████████████████████████████| 1.2 MB 40.3 MB/s \n",
            "\u001b[K     |████████████████████████████████| 197 kB 43.7 MB/s \n",
            "\u001b[K     |████████████████████████████████| 60 kB 6.2 MB/s \n",
            "\u001b[?25hMounted at /content/gdrive\n"
          ]
        }
      ]
    },
    {
      "cell_type": "code",
      "source": [
        "from fastbook import *\n",
        "from fastai.vision.widgets import *\n",
        "from google.colab import drive\n",
        "drive.mount('/content/drive', force_remount=True)"
      ],
      "metadata": {
        "colab": {
          "base_uri": "https://localhost:8080/"
        },
        "id": "bTewCnHj0HmO",
        "outputId": "14129b0c-6a12-41d2-cc7d-c53759cafdf9"
      },
      "execution_count": 4,
      "outputs": [
        {
          "output_type": "stream",
          "name": "stdout",
          "text": [
            "Mounted at /content/drive\n"
          ]
        }
      ]
    },
    {
      "cell_type": "code",
      "source": [
        "path = Path('/content/FaceRecognitionRevised')\n",
        "path"
      ],
      "metadata": {
        "colab": {
          "base_uri": "https://localhost:8080/"
        },
        "id": "2hJW_dag0KMU",
        "outputId": "cb1aa85b-89ab-4649-d864-ff19c6374d5d"
      },
      "execution_count": 5,
      "outputs": [
        {
          "output_type": "execute_result",
          "data": {
            "text/plain": [
              "Path('/content/FaceRecognitionRevised')"
            ]
          },
          "metadata": {},
          "execution_count": 5
        }
      ]
    },
    {
      "cell_type": "code",
      "source": [
        "faces = DataBlock(\n",
        "    blocks=(ImageBlock, CategoryBlock), \n",
        "    get_items=get_image_files, \n",
        "    splitter=RandomSplitter(valid_pct=0.2, seed=42),\n",
        "    get_y=parent_label,\n",
        "    item_tfms=Resize(128))"
      ],
      "metadata": {
        "id": "Bf6fQJlG0NK1"
      },
      "execution_count": 6,
      "outputs": []
    },
    {
      "cell_type": "code",
      "source": [
        "faces = faces.new(\n",
        "    item_tfms=RandomResizedCrop(224, min_scale=0.5),\n",
        "    batch_tfms=aug_transforms())\n",
        "dls = faces.dataloaders(path)"
      ],
      "metadata": {
        "id": "0I14Msxi1mY2"
      },
      "execution_count": 7,
      "outputs": []
    },
    {
      "cell_type": "code",
      "source": [
        "learn = vision_learner(dls, resnet18, metrics=error_rate)\n",
        "learn.fine_tune(18)"
      ],
      "metadata": {
        "colab": {
          "base_uri": "https://localhost:8080/",
          "height": 678
        },
        "id": "XXMpF_Px1p1_",
        "outputId": "6db936d6-c9ba-485f-8cf1-74afb9899d49"
      },
      "execution_count": 47,
      "outputs": [
        {
          "output_type": "display_data",
          "data": {
            "text/plain": [
              "<IPython.core.display.HTML object>"
            ],
            "text/html": [
              "\n",
              "<style>\n",
              "    /* Turns off some styling */\n",
              "    progress {\n",
              "        /* gets rid of default border in Firefox and Opera. */\n",
              "        border: none;\n",
              "        /* Needs to be in here for Safari polyfill so background images work as expected. */\n",
              "        background-size: auto;\n",
              "    }\n",
              "    .progress-bar-interrupted, .progress-bar-interrupted::-webkit-progress-bar {\n",
              "        background: #F44336;\n",
              "    }\n",
              "</style>\n"
            ]
          },
          "metadata": {}
        },
        {
          "output_type": "display_data",
          "data": {
            "text/plain": [
              "<IPython.core.display.HTML object>"
            ],
            "text/html": [
              "<table border=\"1\" class=\"dataframe\">\n",
              "  <thead>\n",
              "    <tr style=\"text-align: left;\">\n",
              "      <th>epoch</th>\n",
              "      <th>train_loss</th>\n",
              "      <th>valid_loss</th>\n",
              "      <th>error_rate</th>\n",
              "      <th>time</th>\n",
              "    </tr>\n",
              "  </thead>\n",
              "  <tbody>\n",
              "    <tr>\n",
              "      <td>0</td>\n",
              "      <td>3.067651</td>\n",
              "      <td>3.000686</td>\n",
              "      <td>0.818182</td>\n",
              "      <td>00:04</td>\n",
              "    </tr>\n",
              "  </tbody>\n",
              "</table>"
            ]
          },
          "metadata": {}
        },
        {
          "output_type": "display_data",
          "data": {
            "text/plain": [
              "<IPython.core.display.HTML object>"
            ],
            "text/html": [
              "\n",
              "<style>\n",
              "    /* Turns off some styling */\n",
              "    progress {\n",
              "        /* gets rid of default border in Firefox and Opera. */\n",
              "        border: none;\n",
              "        /* Needs to be in here for Safari polyfill so background images work as expected. */\n",
              "        background-size: auto;\n",
              "    }\n",
              "    .progress-bar-interrupted, .progress-bar-interrupted::-webkit-progress-bar {\n",
              "        background: #F44336;\n",
              "    }\n",
              "</style>\n"
            ]
          },
          "metadata": {}
        },
        {
          "output_type": "display_data",
          "data": {
            "text/plain": [
              "<IPython.core.display.HTML object>"
            ],
            "text/html": [
              "<table border=\"1\" class=\"dataframe\">\n",
              "  <thead>\n",
              "    <tr style=\"text-align: left;\">\n",
              "      <th>epoch</th>\n",
              "      <th>train_loss</th>\n",
              "      <th>valid_loss</th>\n",
              "      <th>error_rate</th>\n",
              "      <th>time</th>\n",
              "    </tr>\n",
              "  </thead>\n",
              "  <tbody>\n",
              "    <tr>\n",
              "      <td>0</td>\n",
              "      <td>2.330786</td>\n",
              "      <td>2.037162</td>\n",
              "      <td>0.745455</td>\n",
              "      <td>00:05</td>\n",
              "    </tr>\n",
              "    <tr>\n",
              "      <td>1</td>\n",
              "      <td>2.242705</td>\n",
              "      <td>1.506885</td>\n",
              "      <td>0.472727</td>\n",
              "      <td>00:04</td>\n",
              "    </tr>\n",
              "    <tr>\n",
              "      <td>2</td>\n",
              "      <td>2.030533</td>\n",
              "      <td>1.167950</td>\n",
              "      <td>0.327273</td>\n",
              "      <td>00:05</td>\n",
              "    </tr>\n",
              "    <tr>\n",
              "      <td>3</td>\n",
              "      <td>1.825128</td>\n",
              "      <td>0.943722</td>\n",
              "      <td>0.309091</td>\n",
              "      <td>00:05</td>\n",
              "    </tr>\n",
              "    <tr>\n",
              "      <td>4</td>\n",
              "      <td>1.599771</td>\n",
              "      <td>0.772421</td>\n",
              "      <td>0.290909</td>\n",
              "      <td>00:04</td>\n",
              "    </tr>\n",
              "    <tr>\n",
              "      <td>5</td>\n",
              "      <td>1.403691</td>\n",
              "      <td>0.619544</td>\n",
              "      <td>0.236364</td>\n",
              "      <td>00:04</td>\n",
              "    </tr>\n",
              "    <tr>\n",
              "      <td>6</td>\n",
              "      <td>1.238252</td>\n",
              "      <td>0.490934</td>\n",
              "      <td>0.200000</td>\n",
              "      <td>00:04</td>\n",
              "    </tr>\n",
              "    <tr>\n",
              "      <td>7</td>\n",
              "      <td>1.100103</td>\n",
              "      <td>0.424591</td>\n",
              "      <td>0.163636</td>\n",
              "      <td>00:05</td>\n",
              "    </tr>\n",
              "    <tr>\n",
              "      <td>8</td>\n",
              "      <td>0.980377</td>\n",
              "      <td>0.378673</td>\n",
              "      <td>0.127273</td>\n",
              "      <td>00:04</td>\n",
              "    </tr>\n",
              "    <tr>\n",
              "      <td>9</td>\n",
              "      <td>0.878217</td>\n",
              "      <td>0.334266</td>\n",
              "      <td>0.127273</td>\n",
              "      <td>00:04</td>\n",
              "    </tr>\n",
              "    <tr>\n",
              "      <td>10</td>\n",
              "      <td>0.790169</td>\n",
              "      <td>0.293709</td>\n",
              "      <td>0.109091</td>\n",
              "      <td>00:04</td>\n",
              "    </tr>\n",
              "    <tr>\n",
              "      <td>11</td>\n",
              "      <td>0.717996</td>\n",
              "      <td>0.261021</td>\n",
              "      <td>0.072727</td>\n",
              "      <td>00:05</td>\n",
              "    </tr>\n",
              "    <tr>\n",
              "      <td>12</td>\n",
              "      <td>0.649625</td>\n",
              "      <td>0.242057</td>\n",
              "      <td>0.072727</td>\n",
              "      <td>00:04</td>\n",
              "    </tr>\n",
              "    <tr>\n",
              "      <td>13</td>\n",
              "      <td>0.599748</td>\n",
              "      <td>0.233417</td>\n",
              "      <td>0.072727</td>\n",
              "      <td>00:04</td>\n",
              "    </tr>\n",
              "    <tr>\n",
              "      <td>14</td>\n",
              "      <td>0.554033</td>\n",
              "      <td>0.232472</td>\n",
              "      <td>0.072727</td>\n",
              "      <td>00:04</td>\n",
              "    </tr>\n",
              "    <tr>\n",
              "      <td>15</td>\n",
              "      <td>0.509133</td>\n",
              "      <td>0.227211</td>\n",
              "      <td>0.072727</td>\n",
              "      <td>00:04</td>\n",
              "    </tr>\n",
              "    <tr>\n",
              "      <td>16</td>\n",
              "      <td>0.468817</td>\n",
              "      <td>0.224082</td>\n",
              "      <td>0.072727</td>\n",
              "      <td>00:04</td>\n",
              "    </tr>\n",
              "    <tr>\n",
              "      <td>17</td>\n",
              "      <td>0.439029</td>\n",
              "      <td>0.226969</td>\n",
              "      <td>0.072727</td>\n",
              "      <td>00:05</td>\n",
              "    </tr>\n",
              "  </tbody>\n",
              "</table>"
            ]
          },
          "metadata": {}
        }
      ]
    },
    {
      "cell_type": "code",
      "source": [
        "interp = ClassificationInterpretation.from_learner(learn)\n",
        "interp.plot_confusion_matrix()"
      ],
      "metadata": {
        "colab": {
          "base_uri": "https://localhost:8080/",
          "height": 310
        },
        "id": "o6UJ8tT82g7f",
        "outputId": "3633d0ab-1667-4e75-a6c8-7860fe04e21f"
      },
      "execution_count": 29,
      "outputs": [
        {
          "output_type": "display_data",
          "data": {
            "text/plain": [
              "<IPython.core.display.HTML object>"
            ],
            "text/html": [
              "\n",
              "<style>\n",
              "    /* Turns off some styling */\n",
              "    progress {\n",
              "        /* gets rid of default border in Firefox and Opera. */\n",
              "        border: none;\n",
              "        /* Needs to be in here for Safari polyfill so background images work as expected. */\n",
              "        background-size: auto;\n",
              "    }\n",
              "    .progress-bar-interrupted, .progress-bar-interrupted::-webkit-progress-bar {\n",
              "        background: #F44336;\n",
              "    }\n",
              "</style>\n"
            ]
          },
          "metadata": {}
        },
        {
          "output_type": "display_data",
          "data": {
            "text/plain": [
              "<IPython.core.display.HTML object>"
            ],
            "text/html": [
              ""
            ]
          },
          "metadata": {}
        },
        {
          "output_type": "display_data",
          "data": {
            "text/plain": [
              "<IPython.core.display.HTML object>"
            ],
            "text/html": [
              "\n",
              "<style>\n",
              "    /* Turns off some styling */\n",
              "    progress {\n",
              "        /* gets rid of default border in Firefox and Opera. */\n",
              "        border: none;\n",
              "        /* Needs to be in here for Safari polyfill so background images work as expected. */\n",
              "        background-size: auto;\n",
              "    }\n",
              "    .progress-bar-interrupted, .progress-bar-interrupted::-webkit-progress-bar {\n",
              "        background: #F44336;\n",
              "    }\n",
              "</style>\n"
            ]
          },
          "metadata": {}
        },
        {
          "output_type": "display_data",
          "data": {
            "text/plain": [
              "<IPython.core.display.HTML object>"
            ],
            "text/html": [
              ""
            ]
          },
          "metadata": {}
        },
        {
          "output_type": "display_data",
          "data": {
            "text/plain": [
              "<Figure size 432x288 with 1 Axes>"
            ],
            "image/png": "[encoded data removed]"
          },
          "metadata": {
            "needs_background": "light"
          }
        }
      ]
    },
    {
      "cell_type": "code",
      "source": [
        "learn.export()"
      ],
      "metadata": {
        "id": "Yxoj4zHS2pfV"
      },
      "execution_count": 48,
      "outputs": []
    },
    {
      "cell_type": "code",
      "source": [
        "path = Path()\n",
        "path.ls(file_exts='.pkl')"
      ],
      "metadata": {
        "colab": {
          "base_uri": "https://localhost:8080/"
        },
        "id": "cC7wws862qAC",
        "outputId": "a344a410-56ab-4c79-80b4-692d0c3002c1"
      },
      "execution_count": 49,
      "outputs": [
        {
          "output_type": "execute_result",
          "data": {
            "text/plain": [
              "(#1) [Path('export.pkl')]"
            ]
          },
          "metadata": {},
          "execution_count": 49
        }
      ]
    },
    {
      "cell_type": "code",
      "source": [
        "learn_inf = load_learner('/content/export.pkl')"
      ],
      "metadata": {
        "id": "4U-TuI252qGm"
      },
      "execution_count": 50,
      "outputs": []
    },
    {
      "cell_type": "code",
      "source": [
        "learn_inf.predict('/content/TommyTest1.PNG')"
      ],
      "metadata": {
        "colab": {
          "base_uri": "https://localhost:8080/",
          "height": 69
        },
        "id": "0TCoIH7NFkk5",
        "outputId": "a349d638-c1da-4b1b-b5a2-df32e931a541"
      },
      "execution_count": 64,
      "outputs": [
        {
          "output_type": "display_data",
          "data": {
            "text/plain": [
              "<IPython.core.display.HTML object>"
            ],
            "text/html": [
              "\n",
              "<style>\n",
              "    /* Turns off some styling */\n",
              "    progress {\n",
              "        /* gets rid of default border in Firefox and Opera. */\n",
              "        border: none;\n",
              "        /* Needs to be in here for Safari polyfill so background images work as expected. */\n",
              "        background-size: auto;\n",
              "    }\n",
              "    .progress-bar-interrupted, .progress-bar-interrupted::-webkit-progress-bar {\n",
              "        background: #F44336;\n",
              "    }\n",
              "</style>\n"
            ]
          },
          "metadata": {}
        },
        {
          "output_type": "display_data",
          "data": {
            "text/plain": [
              "<IPython.core.display.HTML object>"
            ],
            "text/html": [
              ""
            ]
          },
          "metadata": {}
        },
        {
          "output_type": "execute_result",
          "data": {
            "text/plain": [
              "('Tommy',\n",
              " TensorBase(5),\n",
              " TensorBase([5.2421e-04, 5.3426e-02, 1.1707e-02, 3.8351e-01, 6.3896e-03, 5.4444e-01]))"
            ]
          },
          "metadata": {},
          "execution_count": 64
        }
      ]
    },
    {
      "cell_type": "code",
      "source": [
        "!pip install voila\n",
        "!jupyter serverextension enable --sys-prefix voila"
      ],
      "metadata": {
        "colab": {
          "base_uri": "https://localhost:8080/",
          "height": 1000
        },
        "id": "0oIT-6GwE_b1",
        "outputId": "07142278-e1fb-44f9-a5bd-04cccb25839d"
      },
      "execution_count": 59,
      "outputs": [
        {
          "output_type": "stream",
          "name": "stdout",
          "text": [
            "Collecting voila\n",
            "  Downloading voila-0.3.5-py3-none-any.whl (1.7 MB)\n",
            "\u001b[K     |████████████████████████████████| 1.7 MB 5.3 MB/s \n",
            "\u001b[?25hCollecting websockets>=9.0\n",
            "  Downloading websockets-10.3-cp37-cp37m-manylinux_2_5_x86_64.manylinux1_x86_64.manylinux_2_12_x86_64.manylinux2010_x86_64.whl (112 kB)\n",
            "\u001b[K     |████████████████████████████████| 112 kB 51.6 MB/s \n",
            "\u001b[?25hCollecting nbconvert<7,>=6.4.5\n",
            "  Downloading nbconvert-6.5.0-py3-none-any.whl (561 kB)\n",
            "\u001b[K     |████████████████████████████████| 561 kB 50.6 MB/s \n",
            "\u001b[?25hRequirement already satisfied: traitlets<6,>=5.0.3 in /usr/local/lib/python3.7/dist-packages (from voila) (5.1.1)\n",
            "Collecting nbclient<0.6,>=0.4.0\n",
            "  Downloading nbclient-0.5.13-py3-none-any.whl (70 kB)\n",
            "\u001b[K     |████████████████████████████████| 70 kB 8.1 MB/s \n",
            "\u001b[?25hCollecting jupyterlab-server<3,>=2.3.0\n",
            "  Downloading jupyterlab_server-2.13.0-py3-none-any.whl (53 kB)\n",
            "\u001b[K     |████████████████████████████████| 53 kB 1.8 MB/s \n",
            "\u001b[?25hCollecting jupyter-client<8,>=6.1.3\n",
            "  Downloading jupyter_client-7.3.0-py3-none-any.whl (130 kB)\n",
            "\u001b[K     |████████████████████████████████| 130 kB 51.5 MB/s \n",
            "\u001b[?25hCollecting jupyter-server<2.0.0,>=0.3.0\n",
            "  Downloading jupyter_server-1.17.0-py3-none-any.whl (342 kB)\n",
            "\u001b[K     |████████████████████████████████| 342 kB 57.2 MB/s \n",
            "\u001b[?25hRequirement already satisfied: python-dateutil>=2.8.2 in /usr/local/lib/python3.7/dist-packages (from jupyter-client<8,>=6.1.3->voila) (2.8.2)\n",
            "Requirement already satisfied: jupyter-core>=4.9.2 in /usr/local/lib/python3.7/dist-packages (from jupyter-client<8,>=6.1.3->voila) (4.10.0)\n",
            "Requirement already satisfied: nest-asyncio>=1.5.4 in /usr/local/lib/python3.7/dist-packages (from jupyter-client<8,>=6.1.3->voila) (1.5.5)\n",
            "Collecting tornado>=6.0\n",
            "  Downloading tornado-6.1-cp37-cp37m-manylinux2010_x86_64.whl (428 kB)\n",
            "\u001b[K     |████████████████████████████████| 428 kB 52.8 MB/s \n",
            "\u001b[?25hRequirement already satisfied: entrypoints in /usr/local/lib/python3.7/dist-packages (from jupyter-client<8,>=6.1.3->voila) (0.4)\n",
            "Requirement already satisfied: pyzmq>=22.3 in /usr/local/lib/python3.7/dist-packages (from jupyter-client<8,>=6.1.3->voila) (22.3.0)\n",
            "Requirement already satisfied: prometheus-client in /usr/local/lib/python3.7/dist-packages (from jupyter-server<2.0.0,>=0.3.0->voila) (0.14.1)\n",
            "Requirement already satisfied: packaging in /usr/local/lib/python3.7/dist-packages (from jupyter-server<2.0.0,>=0.3.0->voila) (21.3)\n",
            "Requirement already satisfied: argon2-cffi in /usr/local/lib/python3.7/dist-packages (from jupyter-server<2.0.0,>=0.3.0->voila) (21.3.0)\n",
            "Requirement already satisfied: Send2Trash in /usr/local/lib/python3.7/dist-packages (from jupyter-server<2.0.0,>=0.3.0->voila) (1.8.0)\n",
            "Collecting websocket-client\n",
            "  Downloading websocket_client-1.3.2-py3-none-any.whl (54 kB)\n",
            "\u001b[K     |████████████████████████████████| 54 kB 2.6 MB/s \n",
            "\u001b[?25hRequirement already satisfied: nbformat>=5.2.0 in /usr/local/lib/python3.7/dist-packages (from jupyter-server<2.0.0,>=0.3.0->voila) (5.3.0)\n",
            "Collecting anyio<4,>=3.1.0\n",
            "  Downloading anyio-3.5.0-py3-none-any.whl (79 kB)\n",
            "\u001b[K     |████████████████████████████████| 79 kB 7.1 MB/s \n",
            "\u001b[?25hRequirement already satisfied: terminado>=0.8.3 in /usr/local/lib/python3.7/dist-packages (from jupyter-server<2.0.0,>=0.3.0->voila) (0.13.3)\n",
            "Requirement already satisfied: jinja2 in /usr/local/lib/python3.7/dist-packages (from jupyter-server<2.0.0,>=0.3.0->voila) (2.11.3)\n",
            "Requirement already satisfied: typing-extensions in /usr/local/lib/python3.7/dist-packages (from anyio<4,>=3.1.0->jupyter-server<2.0.0,>=0.3.0->voila) (4.2.0)\n",
            "Collecting sniffio>=1.1\n",
            "  Downloading sniffio-1.2.0-py3-none-any.whl (10 kB)\n",
            "Requirement already satisfied: idna>=2.8 in /usr/local/lib/python3.7/dist-packages (from anyio<4,>=3.1.0->jupyter-server<2.0.0,>=0.3.0->voila) (2.10)\n",
            "Requirement already satisfied: requests in /usr/local/lib/python3.7/dist-packages (from jupyterlab-server<3,>=2.3.0->voila) (2.23.0)\n",
            "Requirement already satisfied: jsonschema>=3.0.1 in /usr/local/lib/python3.7/dist-packages (from jupyterlab-server<3,>=2.3.0->voila) (4.3.3)\n",
            "Requirement already satisfied: importlib-metadata>=3.6 in /usr/local/lib/python3.7/dist-packages (from jupyterlab-server<3,>=2.3.0->voila) (4.11.3)\n",
            "Collecting json5\n",
            "  Downloading json5-0.9.6-py2.py3-none-any.whl (18 kB)\n",
            "Requirement already satisfied: babel in /usr/local/lib/python3.7/dist-packages (from jupyterlab-server<3,>=2.3.0->voila) (2.10.1)\n",
            "Collecting jinja2\n",
            "  Downloading Jinja2-3.1.2-py3-none-any.whl (133 kB)\n",
            "\u001b[K     |████████████████████████████████| 133 kB 52.4 MB/s \n",
            "\u001b[?25hRequirement already satisfied: zipp>=0.5 in /usr/local/lib/python3.7/dist-packages (from importlib-metadata>=3.6->jupyterlab-server<3,>=2.3.0->voila) (3.8.0)\n",
            "Requirement already satisfied: MarkupSafe>=2.0 in /usr/local/lib/python3.7/dist-packages (from jinja2->jupyter-server<2.0.0,>=0.3.0->voila) (2.0.1)\n",
            "Requirement already satisfied: importlib-resources>=1.4.0 in /usr/local/lib/python3.7/dist-packages (from jsonschema>=3.0.1->jupyterlab-server<3,>=2.3.0->voila) (5.7.1)\n",
            "Requirement already satisfied: attrs>=17.4.0 in /usr/local/lib/python3.7/dist-packages (from jsonschema>=3.0.1->jupyterlab-server<3,>=2.3.0->voila) (21.4.0)\n",
            "Requirement already satisfied: pyrsistent!=0.17.0,!=0.17.1,!=0.17.2,>=0.14.0 in /usr/local/lib/python3.7/dist-packages (from jsonschema>=3.0.1->jupyterlab-server<3,>=2.3.0->voila) (0.18.1)\n",
            "Requirement already satisfied: bleach in /usr/local/lib/python3.7/dist-packages (from nbconvert<7,>=6.4.5->voila) (5.0.0)\n",
            "Requirement already satisfied: defusedxml in /usr/local/lib/python3.7/dist-packages (from nbconvert<7,>=6.4.5->voila) (0.7.1)\n",
            "Requirement already satisfied: pandocfilters>=1.4.1 in /usr/local/lib/python3.7/dist-packages (from nbconvert<7,>=6.4.5->voila) (1.5.0)\n",
            "Requirement already satisfied: pygments>=2.4.1 in /usr/local/lib/python3.7/dist-packages (from nbconvert<7,>=6.4.5->voila) (2.6.1)\n",
            "Requirement already satisfied: tinycss2 in /usr/local/lib/python3.7/dist-packages (from nbconvert<7,>=6.4.5->voila) (1.1.1)\n",
            "Requirement already satisfied: mistune<2,>=0.8.1 in /usr/local/lib/python3.7/dist-packages (from nbconvert<7,>=6.4.5->voila) (0.8.4)\n",
            "Requirement already satisfied: beautifulsoup4 in /usr/local/lib/python3.7/dist-packages (from nbconvert<7,>=6.4.5->voila) (4.6.3)\n",
            "Requirement already satisfied: jupyterlab-pygments in /usr/local/lib/python3.7/dist-packages (from nbconvert<7,>=6.4.5->voila) (0.2.2)\n",
            "Requirement already satisfied: fastjsonschema in /usr/local/lib/python3.7/dist-packages (from nbformat>=5.2.0->jupyter-server<2.0.0,>=0.3.0->voila) (2.15.3)\n",
            "Requirement already satisfied: six>=1.5 in /usr/local/lib/python3.7/dist-packages (from python-dateutil>=2.8.2->jupyter-client<8,>=6.1.3->voila) (1.15.0)\n",
            "Requirement already satisfied: ptyprocess in /usr/local/lib/python3.7/dist-packages (from terminado>=0.8.3->jupyter-server<2.0.0,>=0.3.0->voila) (0.7.0)\n",
            "Requirement already satisfied: argon2-cffi-bindings in /usr/local/lib/python3.7/dist-packages (from argon2-cffi->jupyter-server<2.0.0,>=0.3.0->voila) (21.2.0)\n",
            "Requirement already satisfied: cffi>=1.0.1 in /usr/local/lib/python3.7/dist-packages (from argon2-cffi-bindings->argon2-cffi->jupyter-server<2.0.0,>=0.3.0->voila) (1.15.0)\n",
            "Requirement already satisfied: pycparser in /usr/local/lib/python3.7/dist-packages (from cffi>=1.0.1->argon2-cffi-bindings->argon2-cffi->jupyter-server<2.0.0,>=0.3.0->voila) (2.21)\n",
            "Requirement already satisfied: pytz>=2015.7 in /usr/local/lib/python3.7/dist-packages (from babel->jupyterlab-server<3,>=2.3.0->voila) (2022.1)\n",
            "Requirement already satisfied: webencodings in /usr/local/lib/python3.7/dist-packages (from bleach->nbconvert<7,>=6.4.5->voila) (0.5.1)\n",
            "Requirement already satisfied: pyparsing!=3.0.5,>=2.0.2 in /usr/local/lib/python3.7/dist-packages (from packaging->jupyter-server<2.0.0,>=0.3.0->voila) (3.0.8)\n",
            "Requirement already satisfied: urllib3!=1.25.0,!=1.25.1,<1.26,>=1.21.1 in /usr/local/lib/python3.7/dist-packages (from requests->jupyterlab-server<3,>=2.3.0->voila) (1.24.3)\n",
            "Requirement already satisfied: certifi>=2017.4.17 in /usr/local/lib/python3.7/dist-packages (from requests->jupyterlab-server<3,>=2.3.0->voila) (2021.10.8)\n",
            "Requirement already satisfied: chardet<4,>=3.0.2 in /usr/local/lib/python3.7/dist-packages (from requests->jupyterlab-server<3,>=2.3.0->voila) (3.0.4)\n",
            "Installing collected packages: tornado, jupyter-client, sniffio, nbclient, jinja2, websocket-client, nbconvert, anyio, jupyter-server, json5, websockets, jupyterlab-server, voila\n",
            "  Attempting uninstall: tornado\n",
            "    Found existing installation: tornado 5.1.1\n",
            "    Uninstalling tornado-5.1.1:\n",
            "      Successfully uninstalled tornado-5.1.1\n",
            "  Attempting uninstall: jupyter-client\n",
            "    Found existing installation: jupyter-client 5.3.5\n",
            "    Uninstalling jupyter-client-5.3.5:\n",
            "      Successfully uninstalled jupyter-client-5.3.5\n",
            "  Attempting uninstall: nbclient\n",
            "    Found existing installation: nbclient 0.6.0\n",
            "    Uninstalling nbclient-0.6.0:\n",
            "      Successfully uninstalled nbclient-0.6.0\n",
            "  Attempting uninstall: jinja2\n",
            "    Found existing installation: Jinja2 2.11.3\n",
            "    Uninstalling Jinja2-2.11.3:\n",
            "      Successfully uninstalled Jinja2-2.11.3\n",
            "  Attempting uninstall: nbconvert\n",
            "    Found existing installation: nbconvert 5.6.1\n",
            "    Uninstalling nbconvert-5.6.1:\n",
            "      Successfully uninstalled nbconvert-5.6.1\n",
            "\u001b[31mERROR: pip's dependency resolver does not currently take into account all the packages that are installed. This behaviour is the source of the following dependency conflicts.\n",
            "google-colab 1.0.0 requires tornado~=5.1.0; python_version >= \"3.0\", but you have tornado 6.1 which is incompatible.\n",
            "flask 1.1.4 requires Jinja2<3.0,>=2.10.1, but you have jinja2 3.1.2 which is incompatible.\n",
            "datascience 0.10.6 requires folium==0.2.1, but you have folium 0.8.3 which is incompatible.\u001b[0m\n",
            "Successfully installed anyio-3.5.0 jinja2-3.1.2 json5-0.9.6 jupyter-client-7.3.0 jupyter-server-1.17.0 jupyterlab-server-2.13.0 nbclient-0.5.13 nbconvert-6.5.0 sniffio-1.2.0 tornado-6.1 voila-0.3.5 websocket-client-1.3.2 websockets-10.3\n"
          ]
        },
        {
          "output_type": "display_data",
          "data": {
            "application/vnd.colab-display-data+json": {
              "pip_warning": {
                "packages": [
                  "jupyter_client",
                  "tornado"
                ]
              }
            }
          },
          "metadata": {}
        },
        {
          "output_type": "stream",
          "name": "stdout",
          "text": [
            "Enabling: voila\n",
            "- Writing config: /usr/etc/jupyter\n",
            "    - Validating...\n",
            "      voila  \u001b[32mOK\u001b[0m\n"
          ]
        }
      ]
    },
    {
      "cell_type": "code",
      "source": [
        "btn_upload = widgets.FileUpload()\n",
        "btn_upload"
      ],
      "metadata": {
        "colab": {
          "base_uri": "https://localhost:8080/",
          "height": 49,
          "referenced_widgets": [
            "251077d716ab493f90d41c60f662c2d7",
            "7865a79b19a04c1e834fd8d6c149240e",
            "2abfca3a54c14902a574e53f4034096d"
          ]
        },
        "id": "G6HRPlQpFSiK",
        "outputId": "521919d3-b21d-4372-ca61-f20c8ca143df"
      },
      "execution_count": 82,
      "outputs": [
        {
          "output_type": "display_data",
          "data": {
            "text/plain": [
              "FileUpload(value={}, description='Upload')"
            ],
            "application/vnd.jupyter.widget-view+json": {
              "version_major": 2,
              "version_minor": 0,
              "model_id": "251077d716ab493f90d41c60f662c2d7"
            }
          },
          "metadata": {}
        }
      ]
    },
    {
      "cell_type": "code",
      "source": [
        "img = PILImage.create(btn_upload.data[-1])"
      ],
      "metadata": {
        "id": "5PIvW-x8FZ2B"
      },
      "execution_count": 83,
      "outputs": []
    },
    {
      "cell_type": "code",
      "source": [
        "out_pl = widgets.Output()\n",
        "out_pl.clear_output()\n",
        "with out_pl: display(img.to_thumb(128,128))\n",
        "out_pl"
      ],
      "metadata": {
        "colab": {
          "base_uri": "https://localhost:8080/",
          "height": 145,
          "referenced_widgets": [
            "7249fd1efb9044729985a83931cfd3c0",
            "eac3a3a5dd22433a9737be0ada0ae558"
          ]
        },
        "id": "izTzoX1UFZ4Y",
        "outputId": "6ce0b02a-e5dc-4f70-f0ac-a9062a3a81a0"
      },
      "execution_count": 84,
      "outputs": [
        {
          "output_type": "display_data",
          "data": {
            "text/plain": [
              "Output()"
            ],
            "application/vnd.jupyter.widget-view+json": {
              "version_major": 2,
              "version_minor": 0,
              "model_id": "7249fd1efb9044729985a83931cfd3c0"
            }
          },
          "metadata": {}
        }
      ]
    },
    {
      "cell_type": "code",
      "source": [
        "pred,pred_idx,probs = learn_inf.predict(img)"
      ],
      "metadata": {
        "colab": {
          "base_uri": "https://localhost:8080/",
          "height": 17
        },
        "id": "mkwdi9WgFZ6h",
        "outputId": "1fa76f43-717c-43ba-e945-f53a9db9c9cc"
      },
      "execution_count": 85,
      "outputs": [
        {
          "output_type": "display_data",
          "data": {
            "text/plain": [
              "<IPython.core.display.HTML object>"
            ],
            "text/html": [
              "\n",
              "<style>\n",
              "    /* Turns off some styling */\n",
              "    progress {\n",
              "        /* gets rid of default border in Firefox and Opera. */\n",
              "        border: none;\n",
              "        /* Needs to be in here for Safari polyfill so background images work as expected. */\n",
              "        background-size: auto;\n",
              "    }\n",
              "    .progress-bar-interrupted, .progress-bar-interrupted::-webkit-progress-bar {\n",
              "        background: #F44336;\n",
              "    }\n",
              "</style>\n"
            ]
          },
          "metadata": {}
        },
        {
          "output_type": "display_data",
          "data": {
            "text/plain": [
              "<IPython.core.display.HTML object>"
            ],
            "text/html": [
              ""
            ]
          },
          "metadata": {}
        }
      ]
    },
    {
      "cell_type": "code",
      "source": [
        "lbl_pred = widgets.Label()\n",
        "lbl_pred.value = f'Prediction: {pred}; Probability: {probs[pred_idx]:.04f}'\n",
        "lbl_pred"
      ],
      "metadata": {
        "colab": {
          "base_uri": "https://localhost:8080/",
          "height": 49,
          "referenced_widgets": [
            "85d8b1e700984ef38e404ff9e62bf392",
            "2d609591641541febfb955467e0a7a0f",
            "404a79972ac34c71b5077ca44d9bc8ed"
          ]
        },
        "id": "XeZ0SosCGNah",
        "outputId": "6d6ba1f9-e9ee-45c0-ba1f-74a9e61aa7f0"
      },
      "execution_count": 86,
      "outputs": [
        {
          "output_type": "display_data",
          "data": {
            "text/plain": [
              "Label(value='Prediction: Collin; Probability: 0.9801')"
            ],
            "application/vnd.jupyter.widget-view+json": {
              "version_major": 2,
              "version_minor": 0,
              "model_id": "85d8b1e700984ef38e404ff9e62bf392"
            }
          },
          "metadata": {}
        }
      ]
    },
    {
      "cell_type": "code",
      "source": [
        "btn_run = widgets.Button(description='Classify')\n",
        "btn_run"
      ],
      "metadata": {
        "colab": {
          "base_uri": "https://localhost:8080/",
          "height": 49,
          "referenced_widgets": [
            "4340c19279f7464b96be09ca9932261c",
            "7cfa0a73abba4863a9e35269b2fe854f",
            "9d6c98ddaf424d7b819c7b344920c746"
          ]
        },
        "id": "hw8bgYzcFaCB",
        "outputId": "cbbe8d07-6747-413d-8f83-b35a42117e3c"
      },
      "execution_count": 87,
      "outputs": [
        {
          "output_type": "display_data",
          "data": {
            "text/plain": [
              "Button(description='Classify', style=ButtonStyle())"
            ],
            "application/vnd.jupyter.widget-view+json": {
              "version_major": 2,
              "version_minor": 0,
              "model_id": "4340c19279f7464b96be09ca9932261c"
            }
          },
          "metadata": {}
        }
      ]
    },
    {
      "cell_type": "code",
      "source": [
        "def on_click_classify(change):\n",
        "    img = PILImage.create(btn_upload.data[-1])\n",
        "    out_pl.clear_output()\n",
        "    with out_pl: display(img.to_thumb(128,128))\n",
        "    pred,pred_idx,probs = learn_inf.predict(img)\n",
        "    lbl_pred.value = f'Prediction: {pred}; Probability: {probs[pred_idx]:.04f}'\n",
        "\n",
        "btn_run.on_click(on_click_classify)"
      ],
      "metadata": {
        "id": "fncSIODtF5-8"
      },
      "execution_count": 88,
      "outputs": []
    },
    {
      "cell_type": "code",
      "source": [
        "#Putting back btn_upload to a widget for next cell\n",
        "btn_upload = widgets.FileUpload()"
      ],
      "metadata": {
        "id": "DIUQyYr_F6B3"
      },
      "execution_count": 89,
      "outputs": []
    },
    {
      "cell_type": "code",
      "source": [
        "#hide_output\n",
        "VBox([widgets.Label('Select your bear!'), \n",
        "      btn_upload, btn_run, out_pl, lbl_pred])"
      ],
      "metadata": {
        "colab": {
          "base_uri": "https://localhost:8080/",
          "height": 273,
          "referenced_widgets": [
            "634798d977c54b818149aea97d05169d",
            "f4d8a98b7334453cab9aab992e502fbd",
            "99789f0623e4468cae13c7043f39ab7d",
            "4340c19279f7464b96be09ca9932261c",
            "7249fd1efb9044729985a83931cfd3c0",
            "85d8b1e700984ef38e404ff9e62bf392",
            "58af5f0ec2f8494585180564d02bce82",
            "2f5757f9ede44e41963528b10dc3b1b2",
            "1973f940e8ac4e70adb337b2be21d706",
            "a34525d322a948828efe273107bf1081",
            "d03852c0b76e408191ed45ddf1650b92",
            "7cfa0a73abba4863a9e35269b2fe854f",
            "9d6c98ddaf424d7b819c7b344920c746",
            "2d609591641541febfb955467e0a7a0f",
            "404a79972ac34c71b5077ca44d9bc8ed",
            "eac3a3a5dd22433a9737be0ada0ae558"
          ]
        },
        "id": "ueQ41md4F6IS",
        "outputId": "8a237963-046b-4dde-d8e1-291637572037"
      },
      "execution_count": 90,
      "outputs": [
        {
          "output_type": "display_data",
          "data": {
            "text/plain": [
              "VBox(children=(Label(value='Select your bear!'), FileUpload(value={}, description='Upload'), Button(descriptio…"
            ],
            "application/vnd.jupyter.widget-view+json": {
              "version_major": 2,
              "version_minor": 0,
              "model_id": "634798d977c54b818149aea97d05169d"
            }
          },
          "metadata": {}
        }
      ]
    }
  ]
}